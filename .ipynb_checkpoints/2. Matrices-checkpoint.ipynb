{
  "cells": [
    {
      "metadata": {},
      "cell_type": "markdown",
      "source": "# 2. Matrices\n\nA basic understanding of python and numpy arrays is useful for understanding the code snippets.\n\n1. [Basics](#1.-Basics)\n2. [Matrix Operations](#.-Matrix-Operations)\n3. [Linear Transformations](#.-Linear-Transformations)"
    },
    {
      "metadata": {
        "scrolled": true,
        "trusted": true
      },
      "cell_type": "code",
      "source": "%pylab inline",
      "execution_count": 1,
      "outputs": [
        {
          "output_type": "stream",
          "text": "Populating the interactive namespace from numpy and matplotlib\n",
          "name": "stdout"
        }
      ]
    },
    {
      "metadata": {},
      "cell_type": "markdown",
      "source": "## 1. Basics\n\nA matrix $A$ has *m* rows and *n* columns, often denoted as $\\mathbb{R}^{m\\times n}$.\n\nLet $A \\in \\mathbb{R}^{4 \\times 2}$ and $B \\in \\mathbb{R}^{2 \\times 3}$, \n$\n\\begin{align}\nA &= \\begin{bmatrix}\n       a_{1,1} & a_{1,2} \\\\\n       a_{2,1} & a_{2,2} \\\\\n       a_{3,1} & a_{3,2} \\\\\n       a_{4,1} & a_{4,2} \\\\\n     \\end{bmatrix}\n\\end{align}\n$\nand \n$\n\\begin{align}\nB &= \\begin{bmatrix}\n       b_{1,1} & b_{1,2} & b_{1,3} \\\\\n       b_{2,1} & b_{2,2} & b_{2,3}\\\\\n     \\end{bmatrix}\n\\end{align}\n$.\n\nOperations like scaling, adding and subtracting matrices works the same as vectors, as long as the matrix sizes match.\n\n### 1.1 Special Matrices\n\nThe Zero Matrix is denoted by $0_{m\\times n}$."
    },
    {
      "metadata": {
        "trusted": true
      },
      "cell_type": "code",
      "source": "np.zeros((3, 3))",
      "execution_count": 2,
      "outputs": [
        {
          "output_type": "execute_result",
          "execution_count": 2,
          "data": {
            "text/plain": "array([[0., 0., 0.],\n       [0., 0., 0.],\n       [0., 0., 0.]])"
          },
          "metadata": {}
        }
      ]
    },
    {
      "metadata": {},
      "cell_type": "markdown",
      "source": "The Identity Matrix $I_n$ is a zero matrix with ones in its diagonal."
    },
    {
      "metadata": {
        "trusted": true
      },
      "cell_type": "code",
      "source": "np.identity(3)",
      "execution_count": 3,
      "outputs": [
        {
          "output_type": "execute_result",
          "execution_count": 3,
          "data": {
            "text/plain": "array([[1., 0., 0.],\n       [0., 1., 0.],\n       [0., 0., 1.]])"
          },
          "metadata": {}
        }
      ]
    },
    {
      "metadata": {},
      "cell_type": "markdown",
      "source": "Then there is a diagonal matrix, where the diagonal equals some values, and the off-diagonal contains only zero's."
    },
    {
      "metadata": {
        "trusted": true
      },
      "cell_type": "code",
      "source": "np.diag([1., 2., 3.])",
      "execution_count": 4,
      "outputs": [
        {
          "output_type": "execute_result",
          "execution_count": 4,
          "data": {
            "text/plain": "array([[1., 0., 0.],\n       [0., 2., 0.],\n       [0., 0., 3.]])"
          },
          "metadata": {}
        }
      ]
    },
    {
      "metadata": {},
      "cell_type": "markdown",
      "source": "An upper triangular matrix has the property that all components below the diagonal are zero. And for the lower triangular matrix, all components above the triangular are zero."
    },
    {
      "metadata": {
        "trusted": true
      },
      "cell_type": "code",
      "source": "np.triu([[1., 2., 3.],[4., 5., 6.],[7., 8., 9.]], 0)",
      "execution_count": 5,
      "outputs": [
        {
          "output_type": "execute_result",
          "execution_count": 5,
          "data": {
            "text/plain": "array([[1., 2., 3.],\n       [0., 5., 6.],\n       [0., 0., 9.]])"
          },
          "metadata": {}
        }
      ]
    },
    {
      "metadata": {},
      "cell_type": "markdown",
      "source": "In a strict triangular matrix, the diagonal contains zero values as well."
    },
    {
      "metadata": {
        "trusted": true
      },
      "cell_type": "code",
      "source": "np.tril([[1., 2., 3.],[4., 5., 6.],[7., 8., 9.]], -1)",
      "execution_count": 6,
      "outputs": [
        {
          "output_type": "execute_result",
          "execution_count": 6,
          "data": {
            "text/plain": "array([[0., 0., 0.],\n       [4., 0., 0.],\n       [7., 8., 0.]])"
          },
          "metadata": {}
        }
      ]
    },
    {
      "metadata": {},
      "cell_type": "markdown",
      "source": "Finally, a unit triangular matrix has one values along its diagonal. "
    },
    {
      "metadata": {
        "trusted": true
      },
      "cell_type": "code",
      "source": "np.tril([[1., 2., 3.],[4., 5., 6.],[7., 8., 9.]], -1) + np.identity(3)",
      "execution_count": 7,
      "outputs": [
        {
          "output_type": "execute_result",
          "execution_count": 7,
          "data": {
            "text/plain": "array([[1., 0., 0.],\n       [4., 1., 0.],\n       [7., 8., 1.]])"
          },
          "metadata": {}
        }
      ]
    },
    {
      "metadata": {
        "collapsed": true
      },
      "cell_type": "markdown",
      "source": "## 2. Matrix Operations\n\n- Scaling\n- Addition\n- Subtraction\n- Multiplication\n\n### 2.1 Scaling\n\nA scalar works on individual components."
    },
    {
      "metadata": {
        "trusted": true
      },
      "cell_type": "code",
      "source": "A = np.matrix([\n    [-4, 2],\n    [-2, 0],\n    [4, -6]])\n\nb = 2\n\nb * A",
      "execution_count": 8,
      "outputs": [
        {
          "output_type": "execute_result",
          "execution_count": 8,
          "data": {
            "text/plain": "matrix([[ -8,   4],\n        [ -4,   0],\n        [  8, -12]])"
          },
          "metadata": {}
        }
      ]
    },
    {
      "metadata": {},
      "cell_type": "markdown",
      "source": "### 2.2 Addition\n\nAs with vectors, the components of the resulting matrix are the sums of associated components from the matrices that are added up."
    },
    {
      "metadata": {
        "trusted": true
      },
      "cell_type": "code",
      "source": "A = np.matrix([\n    [-4, 2],\n    [-2, 0],\n    [4, -6]])\n\nB = np.matrix([\n    [2, -3],\n    [6, 1],\n    [0, 3]])\n\ncommutativity = lambda A, B: (A + B == B + A).all()\ncommutativity(A, B)",
      "execution_count": 9,
      "outputs": [
        {
          "output_type": "execute_result",
          "execution_count": 9,
          "data": {
            "text/plain": "True"
          },
          "metadata": {}
        }
      ]
    },
    {
      "metadata": {},
      "cell_type": "markdown",
      "source": "### 2.3 Subtraction\n\nAs with numbers, subtraction is neither commutative nor associative."
    },
    {
      "metadata": {
        "trusted": true
      },
      "cell_type": "code",
      "source": "commutativity = lambda A, B: (A - B == B - A).all()\ncommutativity(A, B)",
      "execution_count": 10,
      "outputs": [
        {
          "output_type": "execute_result",
          "execution_count": 10,
          "data": {
            "text/plain": "False"
          },
          "metadata": {}
        }
      ]
    },
    {
      "metadata": {},
      "cell_type": "markdown",
      "source": "### 2.4 Matrix Vector Multiplication\n\n$A$ can be multiplied with a vector $v$, where \n\nLet $A \\in \\mathbb{R}^{4 \\times 2}$ and $v \\in \\mathbb{R}^2$, \n$\n\\begin{align}\nA &= \\begin{bmatrix}\n       a_{1,1} & a_{1,2} \\\\\n       a_{2,1} & a_{2,2} \\\\\n       a_{3,1} & a_{3,2} \\\\\n       a_{4,1} & a_{4,2} \\\\\n     \\end{bmatrix}\n\\end{align}\n$ \nand\n$\nv = \n\\begin{bmatrix}\n    v_0 \\\\\n    v_1\n\\end{bmatrix}\n$.\n\nThen \n$\nAv = \\begin{bmatrix}\n       v_0a_{1,1} & v_1a_{1,2} \\\\\n       v_0a_{2,1} & v_1a_{2,2} \\\\\n       v_0a_{3,1} & v_1a_{3,2} \\\\\n       v_0a_{4,1} & v_1a_{4,2} \\\\\n     \\end{bmatrix}\n$."
    },
    {
      "metadata": {
        "trusted": true
      },
      "cell_type": "code",
      "source": "A = np.matrix([\n    [-4, 2],\n    [-2, 0],\n    [4, -6]])\n\nx = np.array([0.5, 1])\n\nnumpy.dot(A, x)",
      "execution_count": 11,
      "outputs": [
        {
          "output_type": "execute_result",
          "execution_count": 11,
          "data": {
            "text/plain": "matrix([[ 0., -1., -4.]])"
          },
          "metadata": {}
        }
      ]
    },
    {
      "metadata": {},
      "cell_type": "markdown",
      "source": "### 2.4 Matrix Multiplication\n\n$A$ can be multiplied with $B$ iff the number of columns of $A$ are equal to the amount of rows of $B$. The result will be $C \\in \\mathbb{R}^{4 \\times 3}$, equal to the amount of rows of $A$, and the amount of columns of $B$.\n\n![](https://notebooks.azure.com/menziess/libraries/Python-Linear-Algebra/raw/res%2FMatrix_multiplication_diagram_2.svg.png)\n\nAs shown in the image, components of the rows of the first matrix are multiplied and added to the components of the columns of the second matrix for each component in the resulting matrix.\n\nMatrix multiplication does not commute, other than that, matrix multiplications have some interesting properties:"
    },
    {
      "metadata": {
        "trusted": true
      },
      "cell_type": "code",
      "source": "A = np.matrix([\n    [2, -1],\n    [0, 3]])\n\nB = np.matrix([\n    [1, 0],\n    [2, 3]])\n\ncommutativity = lambda A, B: (A @ B == B @ A).all()\ncommutativity(A, B)",
      "execution_count": 12,
      "outputs": [
        {
          "output_type": "execute_result",
          "execution_count": 12,
          "data": {
            "text/plain": "False"
          },
          "metadata": {}
        }
      ]
    },
    {
      "metadata": {
        "trusted": true
      },
      "cell_type": "code",
      "source": "C = A @ B.T\n\nassociativity = lambda A, B, C: (A @ (B @ C) == (A @ B) @ C).all()\nassociativity(A, B, C)",
      "execution_count": 13,
      "outputs": [
        {
          "output_type": "execute_result",
          "execution_count": 13,
          "data": {
            "text/plain": "True"
          },
          "metadata": {}
        }
      ]
    },
    {
      "metadata": {
        "trusted": true
      },
      "cell_type": "code",
      "source": "distributivity = lambda A, B, C: (A @ (B + C) == A @ B + A @ C).all()\ndistributivity(A, B, C)",
      "execution_count": 14,
      "outputs": [
        {
          "output_type": "execute_result",
          "execution_count": 14,
          "data": {
            "text/plain": "True"
          },
          "metadata": {}
        }
      ]
    },
    {
      "metadata": {},
      "cell_type": "markdown",
      "source": "## 3. Linear Transformations\n\nSome examples of linear transformations are:\n\n- rotations\n- reflections\n\n### 3.1 Theorem - Linear Transformation\n\nA vector function $L:\\mathbb{R}^n \\rightarrow \\mathbb{R}^m$ is said to be a linear transformation if $\\forall x,y \\in \\mathbb{R}^n$ and $a \\in \\mathbb{R}$ the following holds:\n\n$$ L(ax) = aL(x) $$\n\n$$ L(x + y) = L(x) + L(y)$$\n\nSimilarly, we have the theorem that states:\n\nLet $\\{v_0, v_1, ... , v_{k-1}\\} \\in \\mathbb{R}^n$ $\\{a_0, a_1, ..., a_{k-1}\\} \\in \\mathbb{R}$, and let $L:\\mathbb{R}^n \\rightarrow \\mathbb{R}^m$ be a linear transformation. Then\n\n$$L(\\alpha_0v_0 + a_1v_1 + ... + a_{k-1}v_{k-1}) = $$\n$$a_0L(v_0) + a_1L(v_1) + ... + a_{k-1}L(v_{k-1})$$"
    },
    {
      "metadata": {
        "trusted": true
      },
      "cell_type": "code",
      "source": "x = np.array([1, 4, 5])\ny = np.array([13, 24, -3])\n\ndef is_vector(v):\n    \"\"\"Validates input is vector\"\"\"\n    if type(v) is not np.ndarray:\n        raise ValueError('Expected np.ndarray')\n        \ndef equal_vectors(v1, v2):\n    map(is_vector, (v1, v2))\n    return (v1 == v2).all()",
      "execution_count": 15,
      "outputs": []
    },
    {
      "metadata": {
        "trusted": true
      },
      "cell_type": "code",
      "source": "def f(v):\n    \"\"\"Adds the index + 1 to each component\"\"\"\n    is_vector(v)\n    return v + list(range(1, v.size + 1))\n\ndef L(v):\n    \"\"\"Adds previous component result to current\"\"\"\n    is_vector(v)\n    x = 0\n    res = np.zeros(v.size)\n    for i, c in enumerate(v):\n        res[i] = c + x\n        x = res[i]\n    return res\n    \ndef is_linear_transformation(f):\n    return (f(3.2 * x) == 3.2 * f(x)).all() and (f(x + y) == f(x) + f(y)).all()\n\nprint(is_linear_transformation(f))\nprint(is_linear_transformation(L))",
      "execution_count": 16,
      "outputs": [
        {
          "output_type": "stream",
          "text": "False\nTrue\n",
          "name": "stdout"
        }
      ]
    },
    {
      "metadata": {},
      "cell_type": "markdown",
      "source": "### 3.2 Theorem - Transformation Matrix\n\nA function $f:\\mathbb{R}^n \\rightarrow \\mathbb{R}^m$ is a linear transformation iff it can be written as a matrix-vector multiplication. So, $L(x) = Ax$, where $A \\in \\mathbb{R}^{m\\times n}$. Say, we have the following transformation:\n\n$\nf\\begin{pmatrix}\n \\begin{pmatrix}\n   \\chi_0 \\\\\n   \\chi_1\n \\end{pmatrix}\n \\end{pmatrix}\n$$= \n\\begin{pmatrix}\n   \\chi_0 + \\chi_1 \\\\\n   \\chi_1\n\\end{pmatrix} \n$\n\nIf we apply $f$ to the first unit basis vectors, we get their results:\n\n$\nf\\begin{pmatrix}\n \\begin{pmatrix}\n   1 \\\\\n   0\n \\end{pmatrix}\n \\end{pmatrix}\n$$= \n\\begin{pmatrix}\n   1 \\\\\n   1\n\\end{pmatrix} \n$\nand\n$\nf\\begin{pmatrix}\n \\begin{pmatrix}\n   0 \\\\\n   1\n \\end{pmatrix}\n \\end{pmatrix}\n$$= \n\\begin{pmatrix}\n   1 \\\\\n   0\n\\end{pmatrix}\n$\n\nThe results form the matrix $A$:\n\n$\nA = \\begin{bmatrix}\n       1 & 1 \\\\\n       1 & 0\n     \\end{bmatrix}\n$.\n\nNow, if we multiply, we get the original expression $Ax = f(x)$:\n\n$ Ax = \n\\begin{bmatrix}\n   1 & 1 \\\\\n   1 & 0\n\\end{bmatrix}$$\n\\begin{bmatrix}\n   \\chi_0 \\\\\n   \\chi_1\n\\end{bmatrix}\n $$=\n\\begin{pmatrix}\n   \\chi_0 + \\chi_1 \\\\\n   \\chi_0\n\\end{pmatrix}\n$\n      \nTherefore, $f$ is a linear transformation."
    },
    {
      "metadata": {
        "trusted": true
      },
      "cell_type": "code",
      "source": "def L(v):\n    \"\"\"Linear transformation\"\"\"\n    is_vector(v)\n    return np.array([v[0] + v[1], v[0]])\n\n# Transformation matrix\nA = np.matrix([\n    [1, 1],\n    [1, 0]\n])\n\nx = np.array([2, 3])\n\nequal_vectors(numpy.dot(A, x).A1, L(x))",
      "execution_count": 17,
      "outputs": [
        {
          "output_type": "execute_result",
          "execution_count": 17,
          "data": {
            "text/plain": "True"
          },
          "metadata": {}
        }
      ]
    },
    {
      "metadata": {},
      "cell_type": "markdown",
      "source": "### 3.3 Solving For a Linear Transformation\n\nLet $L$ be a Linear Transformation such that \n\n$\nL\\begin{pmatrix}\n \\begin{pmatrix}\n   1 \\\\\n   0\n \\end{pmatrix}\n \\end{pmatrix}\n$$= \n\\begin{pmatrix}\n   3 \\\\\n   5\n\\end{pmatrix}\n$ and \n$\nL\\begin{pmatrix}\n \\begin{pmatrix}\n   0 \\\\\n   1\n \\end{pmatrix}\n \\end{pmatrix}\n$$= \n\\begin{pmatrix}\n   2 \\\\\n   -1\n\\end{pmatrix}\n$\n\nWhat is $\nL\\begin{pmatrix}\n \\begin{pmatrix}\n   2 \\\\\n   3\n \\end{pmatrix}\n \\end{pmatrix}\n ?\n$\n\nThis problem can be solved with the knowledge that vectors can be written as a linear combination of their components and unit basis vectors:\n\n$\nL\\begin{pmatrix}\n \\begin{pmatrix}\n   2 \\\\\n   3\n \\end{pmatrix}\n \\end{pmatrix}\n = L(2e_0 + 3e_1)\n$\n\n$\\qquad = 2L(e_0) + 3L(e_1)$\n\n$\\qquad = 2L\n\\begin{pmatrix}\n  \\begin{pmatrix}\n   1 \\\\\n   0\n  \\end{pmatrix}\n  \\end{pmatrix} \n$$+ 3L\n\\begin{pmatrix}\n  \\begin{pmatrix}\n   0 \\\\\n   1\n  \\end{pmatrix}\n  \\end{pmatrix} \n$\n\nSubstituting the linear transformations by their given results:\n\n$\\qquad = 2\n\\begin{pmatrix}\n   3 \\\\\n   5\n\\end{pmatrix} \n$$ + \n3\\begin{pmatrix}\n   2 \\\\\n   -1\n\\end{pmatrix} \n$\n\n$\\qquad = \n\\begin{pmatrix}\n   2 \\times 3 & + & 3 \\times 2\\\\\n   2 \\times 5 & + & 3 \\times (-1)\n\\end{pmatrix} \n$\n\n$\\qquad = \n\\begin{pmatrix}\n   12 \\\\\n   7\n\\end{pmatrix} \n$"
    },
    {
      "metadata": {},
      "cell_type": "markdown",
      "source": "### 3.4 Trigonometry Rotation\n\nWhen we take a look at the unit circle, the $x$ and $y$ coordinates on the circle are given by $sin$ and $cos$ respectively. Notice that we iterate over the range $[0, 2\\pi]$, because the circumference of a circle is $2\\pi r$, and for a unit circle $r=1$."
    },
    {
      "metadata": {
        "trusted": true
      },
      "cell_type": "code",
      "source": "# plt.quiver is used to plot vectors, omitting the origin will\n# create the same result as providing the (0, 0) origin\norigin = [0], [0]\n\n# To speed up creating plots, we create a wrapper function that accepts\n# vectors, the origin, and colors for each respective vector\ndef plot_vectors_on_unit_circle(*vectors, origins = origin, groups = None, color = None):\n           \n    # Convert vectors to np array\n    V = np.array(vectors)\n    \n    # Create range from 0 to 2pi and plot black circle\n    t = np.linspace(0, 2 * np.pi, 100)\n    plt.plot(sin(t), cos(t), color='black')\n        \n    # Create quiver plot\n    plt.quiver(*origins, V[:, 0], V[:, 1], angles = 'xy', scale_units = 'xy', scale = 1, color = color)\n    plt.xlim(-1.7, 1.7)\n    plt.ylim(-1.1, 1.1)\n    plt.grid()\n    plt.show()",
      "execution_count": 18,
      "outputs": []
    },
    {
      "metadata": {
        "scrolled": false,
        "trusted": true
      },
      "cell_type": "code",
      "source": "e0 = np.array([1, 0])\ne1 = np.array([0, 1])\n\nplot_vectors_on_unit_circle(e0, e1, color=['r', 'b'])",
      "execution_count": 19,
      "outputs": [
        {
          "output_type": "display_data",
          "data": {
            "image/png": "[encoded data removed]",
            "text/plain": "<matplotlib.figure.Figure at 0x7f878c5f8898>"
          },
          "metadata": {}
        }
      ]
    },
    {
      "metadata": {},
      "cell_type": "markdown",
      "source": "If we rotate the unit basis vectors by $\\theta$, we can compute the landing coordinates of the vectors using trigonometry.\n\n![](/menziess/libraries/Python-Linear-Algebra/raw/res%2FTrigonometry_first.png)\n\nRotating the first unit basis vector by an angle $\\theta$, we get the unit vector \n$\nR_\\theta(\n\\begin{pmatrix}\n   1 \\\\\n   0\n\\end{pmatrix}\n)\n$.\n\nThe x coordinate is $cos(\\theta)$, and the y coordinate is $sin(\\theta)$.\nSo the landing spot is:\n$\n\\begin{pmatrix}\n   cos(\\theta) \\\\\n   sin(\\theta)\n\\end{pmatrix}\n$.\n\n![](/menziess/libraries/Python-Linear-Algebra/raw/res%2FTrigonometry_second.png)\n\nSimilarly, rotating the second unit basis vector by an angle $\\theta$, we get the unit vector \n$\nR_\\theta(\n\\begin{pmatrix}\n   0 \\\\\n   1\n\\end{pmatrix}\n)\n$ which lands at:\n$\n\\begin{pmatrix}\n   -sin(\\theta) \\\\\n   cos(\\theta)\n\\end{pmatrix}\n$.\n\nThe rotation of some vector $x$, \n$\nR_\\theta(x) = R_\\theta\n\\begin{pmatrix}\n\\begin{pmatrix}\n   \\chi_0 \\\\\n   \\chi_1\n\\end{pmatrix}\n\\end{pmatrix}\n$ is equal to the matrix vector multiplication:\n\n$\n\\begin{pmatrix}\n   R_\\theta(\n    \\begin{pmatrix}\n       1 \\\\\n       0\n    \\end{pmatrix}\n    )\n   &\n   R_\\theta(\n    \\begin{pmatrix}\n       0 \\\\\n       1\n    \\end{pmatrix}\n    )\n\\end{pmatrix}\n\\begin{pmatrix}\n   \\chi_0 \\\\\n   \\chi_1\n\\end{pmatrix}\n$ \nfor which we know the separate landing spots\n$\n\\begin{pmatrix}\n       cos(\\theta) & -sin(\\theta) \\\\\n       sin(\\theta) & cos(\\theta)\n\\end{pmatrix}\n\\begin{pmatrix}\n   \\chi_0 \\\\\n   \\chi_1\n\\end{pmatrix}\n$"
    },
    {
      "metadata": {
        "scrolled": true,
        "trusted": true
      },
      "cell_type": "code",
      "source": "theta = math.radians(10)\ne0 = np.array([cos(theta), sin(theta)])\ne1 = np.array([-sin(theta), cos(theta)])\n\nplot_vectors_on_unit_circle(e0, e1, color=['r', 'b'])",
      "execution_count": 20,
      "outputs": [
        {
          "output_type": "display_data",
          "data": {
            "image/png": "[encoded data removed]",
            "text/plain": "<matplotlib.figure.Figure at 0x7f878c5f8278>"
          },
          "metadata": {}
        }
      ]
    }
  ],
  "metadata": {
    "kernelspec": {
      "name": "python36",
      "display_name": "Python 3.6",
      "language": "python"
    },
    "language_info": {
      "mimetype": "text/x-python",
      "nbconvert_exporter": "python",
      "name": "python",
      "pygments_lexer": "ipython3",
      "version": "3.6.6",
      "file_extension": ".py",
      "codemirror_mode": {
        "version": 3,
        "name": "ipython"
      }
    }
  },
  "nbformat": 4,
  "nbformat_minor": 2
}