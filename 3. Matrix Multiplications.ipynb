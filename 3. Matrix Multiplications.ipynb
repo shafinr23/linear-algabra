{
  "cells": [
    {
      "metadata": {},
      "cell_type": "markdown",
      "source": "# 3. Matrix Multiplications\n\nA basic understanding of python and numpy arrays is useful for understanding the code snippets.\n\n1. [Basics](#1.-Basics)\n1. [Partitioned](#2.-Partitioned)\n1. [Special Properties](#3.-Special-Properties)"
    },
    {
      "metadata": {
        "scrolled": true,
        "trusted": true
      },
      "cell_type": "code",
      "source": "%pylab inline",
      "execution_count": 3,
      "outputs": [
        {
          "output_type": "stream",
          "text": "Populating the interactive namespace from numpy and matplotlib\n",
          "name": "stdout"
        }
      ]
    },
    {
      "metadata": {},
      "cell_type": "markdown",
      "source": "## 1. Basics\n\nAs mentioned in the previous notebook, the standard way of multiplying two matrices is depicted as the multiplication of each row of $A$ by each column of $B$. \n\n![](https://notebooks.azure.com/menziess/libraries/Python-Linear-Algebra/raw/res%2FMatrix_multiplication_diagram_2.svg.png)\n\nColumns of the resulting matrix $C$ are combinations of columns of $A$. Rows of $C$ are combinations of rows of $B$.\n\nIncluding the standard dot product way, there are other ways to interpret matrix multiplications:\n\n1. Inner Product (Standard)\n1. Matrix - Column Vector\n1. Row Vectors - Matrix\n1. Outer Product\n\nIn the examples we will use the matrices \n$\nA = \\begin{bmatrix}\n  -2 & 1 & 0 \\\\\n  3 & 0 & 1 \\\\\n  1 & 2 & 1 \\\\\n\\end{bmatrix}\n$\nand\n$\nB = \\begin{bmatrix}\n  1 & -1 & 2 \\\\\n  -1 & 1 & 0 \\\\\n  2 & 1 & 2 \\\\\n\\end{bmatrix}\n$"
    },
    {
      "metadata": {
        "trusted": false
      },
      "cell_type": "code",
      "source": "# Our matrices A and B\nA = np.matrix(\"-2 1 0; 3 0 1; 1 2 1\")\nB = np.matrix(\"1 -1 2; -1 1 0; 2 1 2\")\n\n# Rows and columns of A\na0t, a1t, a2t = [row[0] for row in A]\na0,  a1,  a2  = [A[:, i] for i in range(len(A))]\n\n# Rows and columns of B\nb0t, b1t, b2t = [row[0] for row in B]\nb0,  b1,  b2  = [B[:, i] for i in range(len(B))]\n\nprint(A @ B, \"Result for comparison\")",
      "execution_count": 2,
      "outputs": [
        {
          "name": "stdout",
          "output_type": "stream",
          "text": "[[-3  3 -4]\n [ 5 -2  8]\n [ 1  2  4]] Result for comparison\n"
        }
      ]
    },
    {
      "metadata": {},
      "cell_type": "markdown",
      "source": "$\nAB = \\begin{bmatrix}\n  -3 & 3 & -4 \\\\\n  5 & -2 & 8 \\\\\n  1 & 2 & 4 \\\\\n\\end{bmatrix}\n$\n\n### 1.1 Inner Product (Standard)\n\nEach row of $A$ times each column of $B$\n$$C_{ij} = a_i^T b_j$$"
    },
    {
      "metadata": {
        "trusted": false
      },
      "cell_type": "code",
      "source": "print(a0t @ b0, \"Top left component of C\")",
      "execution_count": 3,
      "outputs": [
        {
          "name": "stdout",
          "output_type": "stream",
          "text": "[[-3]] Top left component of C\n"
        }
      ]
    },
    {
      "metadata": {},
      "cell_type": "markdown",
      "source": "### 1.2 Matrix - Column Vector\n\nMatrix $A$ times each column of $B$\n\n$$c_j = A b_j$$"
    },
    {
      "metadata": {
        "trusted": false
      },
      "cell_type": "code",
      "source": "print(A @ b0, \"First column of C\")",
      "execution_count": 4,
      "outputs": [
        {
          "name": "stdout",
          "output_type": "stream",
          "text": "[[-3]\n [ 5]\n [ 1]] First column of C\n"
        }
      ]
    },
    {
      "metadata": {},
      "cell_type": "markdown",
      "source": "### 1.3 Row Vectors - Matrix\n\nEach row of $A$ times the matrix $B$\n\n$$c_i^T = a_i^T B$$"
    },
    {
      "metadata": {
        "trusted": false
      },
      "cell_type": "code",
      "source": "print(a0t @ B, \"First row of C\")",
      "execution_count": 5,
      "outputs": [
        {
          "name": "stdout",
          "output_type": "stream",
          "text": "[[-3  3 -4]] First row of C\n"
        }
      ]
    },
    {
      "metadata": {},
      "cell_type": "markdown",
      "source": "### 1.4 Outer Product\n\nThe sum of each column of $A$ times each row of $B$\n\n$$C = \\sum_{j = 0}^{n_A} a_j b_i^T$$"
    },
    {
      "metadata": {
        "trusted": false
      },
      "cell_type": "code",
      "source": "C = a0 @ b0t\nprint(C, \"Outer product of first column of A times first row of B\")\nC = a1 @ b1t + C\nprint(C, \"plus second column of A times second row of B\")\nC = a2 * b2t + C\nprint(C, \"plus third column of A times third row of B\")",
      "execution_count": 6,
      "outputs": [
        {
          "name": "stdout",
          "output_type": "stream",
          "text": "[[-2  2 -4]\n [ 3 -3  6]\n [ 1 -1  2]] Outer product of first column of A times first row of B\n[[-3  3 -4]\n [ 3 -3  6]\n [-1  1  2]] plus second column of A times second row of B\n[[-3  3 -4]\n [ 5 -2  8]\n [ 1  2  4]] plus third column of A times third row of B\n"
        }
      ]
    },
    {
      "metadata": {},
      "cell_type": "markdown",
      "source": "## 2. Partitioned\n\nThe multiplication of partitions of $A$ and $B$ results in the partitions of $C$\n\n$$\n\\left[\n\\begin{array}{c|c}\nA_1 & A_2 \\\\\n\\hline\nA_3 & A_4\n\\end{array}\n\\right]\n\\left[\n\\begin{array}{c|c}\nB_1 & B_2 \\\\\n\\hline\nB_3 & B_4\n\\end{array}\n\\right]\n=\n\\left[\n\\begin{array}{c|c}\nC_1 & C_2 \\\\\n\\hline\nC_3 & C_4\n\\end{array}\n\\right]\n$$\n\nEach block / partition gets treated like simple matrix scalars / components. Therefore, the four multiplication interpretations can be used on these partitions."
    },
    {
      "metadata": {
        "trusted": false
      },
      "cell_type": "code",
      "source": "A = np.linspace(0, 24, 25).reshape([5, 5])\nB = np.linspace(25, 49, 25).reshape([5, 5])\nprint(A @ B, \"Result for comparison\")",
      "execution_count": 7,
      "outputs": [
        {
          "name": "stdout",
          "output_type": "stream",
          "text": "[[ 400.  410.  420.  430.  440.]\n [1275. 1310. 1345. 1380. 1415.]\n [2150. 2210. 2270. 2330. 2390.]\n [3025. 3110. 3195. 3280. 3365.]\n [3900. 4010. 4120. 4230. 4340.]] Result for comparison\n"
        }
      ]
    },
    {
      "metadata": {
        "trusted": false
      },
      "cell_type": "code",
      "source": "# Partitioning matrices A and B into 2x2, 2x3, 3x2, and 3x2 blocks\nA1, A2, A3, A4 = A[0:2, 0:2], A[0:2, 2:], A[2:, 0:2], A[2:, 2:], \nB1, B2, B3, B4 = B[0:2, 0:2], B[0:2, 2:], B[2:, 0:2], B[2:, 2:],\n\n# Using standard matrix multiplication (dot / inner product)\nC1 = A1 @ B1 + A2 @ B3\nC2 = A1 @ B2 + A2 @ B4\nC3 = A3 @ B1 + A4 @ B3\nC4 = A3 @ B2 + A4 @ B4\n\n# Putting C1 on top of C3, C2 on top of C4, besides eachother to form C\nC = np.concatenate((np.concatenate((C1, C3)), np.concatenate((C2, C4))), axis=1)\nprint(C, \"It worked\")",
      "execution_count": 8,
      "outputs": [
        {
          "name": "stdout",
          "output_type": "stream",
          "text": "[[ 400.  410.  420.  430.  440.]\n [1275. 1310. 1345. 1380. 1415.]\n [2150. 2210. 2270. 2330. 2390.]\n [3025. 3110. 3195. 3280. 3365.]\n [3900. 4010. 4120. 4230. 4340.]] It worked\n"
        }
      ]
    },
    {
      "metadata": {},
      "cell_type": "markdown",
      "source": "## 3. Special Properties\n\nIn addition to the properties listed in notebook [2. Matrices](./2.%20Matrices.ipynb), there are some special properties related to matrix multiplications:\n\n1. Transpose\n1. Inverse"
    },
    {
      "metadata": {
        "trusted": true
      },
      "cell_type": "code",
      "source": "A = np.matrix([\n    [1, 3],\n    [2, 7]])\nB = np.matrix([\n    [4, 7],\n    [2, 6]])",
      "execution_count": 28,
      "outputs": []
    },
    {
      "metadata": {},
      "cell_type": "markdown",
      "source": "### 3.1 Transpose\n\nTransposing a matrix causes a matrix to flip along its diagonal:"
    },
    {
      "metadata": {
        "trusted": true
      },
      "cell_type": "code",
      "source": "print(A.T)\nprint((A.T).T)",
      "execution_count": 22,
      "outputs": [
        {
          "output_type": "stream",
          "text": "[[1 2]\n [3 7]]\n[[1 3]\n [2 7]]\n",
          "name": "stdout"
        }
      ]
    },
    {
      "metadata": {},
      "cell_type": "markdown",
      "source": "If the matrix product is defined, then:\n$$A^T + B^T = (A + B)^T$$\n$$(AB)^T = B^T A^T$$"
    },
    {
      "metadata": {
        "trusted": true
      },
      "cell_type": "code",
      "source": "transpose_addition = lambda A, B: (A.T + B.T == (A + B).T).all()\ntranspose_multiplication = lambda A, B: ((A @ B).T == B.T @ A.T).all()\n\ntranspose_addition(A, B) and transpose_multiplication(A, B)",
      "execution_count": 29,
      "outputs": [
        {
          "output_type": "execute_result",
          "execution_count": 29,
          "data": {
            "text/plain": "True"
          },
          "metadata": {}
        }
      ]
    },
    {
      "metadata": {},
      "cell_type": "markdown",
      "source": "### 3.2 Inverse\n\nThe inverse matrix exists only for square nonsingular matrices (whose determinant is nonzero).\n\nThe inverse of a matrix $A$ is defined as matrix $A^{-1}$ such that the product of the matrix and its own inverse results in the identity matrix:"
    },
    {
      "metadata": {
        "trusted": true
      },
      "cell_type": "code",
      "source": "A @ A.I",
      "execution_count": 24,
      "outputs": [
        {
          "output_type": "execute_result",
          "execution_count": 24,
          "data": {
            "text/plain": "matrix([[1., 0.],\n        [0., 1.]])"
          },
          "metadata": {}
        }
      ]
    },
    {
      "metadata": {},
      "cell_type": "markdown",
      "source": "The inverse of a product of matrices equals the inverse of the second matrix times the inverse of the first matrix:"
    },
    {
      "metadata": {
        "trusted": true
      },
      "cell_type": "code",
      "source": "print((A @ B).I)\nprint(B.I @ A.I)\n\n# We prevent rounding errors before checking equality\nI1 = np.round(B.I @ A.I, 2)\nI2 = np.round((A @ B).I, 2)\n(I1 == I2).all()",
      "execution_count": 46,
      "outputs": [
        {
          "output_type": "stream",
          "text": "[[ 5.6 -2.5]\n [-2.2  1. ]]\n[[ 5.6 -2.5]\n [-2.2  1. ]]\n",
          "name": "stdout"
        },
        {
          "output_type": "execute_result",
          "execution_count": 46,
          "data": {
            "text/plain": "True"
          },
          "metadata": {}
        }
      ]
    }
  ],
  "metadata": {
    "kernelspec": {
      "name": "python36",
      "display_name": "Python 3.6",
      "language": "python"
    },
    "language_info": {
      "mimetype": "text/x-python",
      "nbconvert_exporter": "python",
      "name": "python",
      "pygments_lexer": "ipython3",
      "version": "3.6.6",
      "file_extension": ".py",
      "codemirror_mode": {
        "version": 3,
        "name": "ipython"
      }
    }
  },
  "nbformat": 4,
  "nbformat_minor": 2
}