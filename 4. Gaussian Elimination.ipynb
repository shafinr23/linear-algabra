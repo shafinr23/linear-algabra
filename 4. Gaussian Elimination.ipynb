{
  "cells": [
    {
      "metadata": {
        "collapsed": true
      },
      "cell_type": "markdown",
      "source": "# 4. Gaussian Elimination\n\nA basic understanding of python and numpy arrays is useful for understanding the code snippets.\n\n1. [Basics](#1.-Basics)\n1. [Solving A Linear System](#2.-Solving-A-Linear-System)\n1. [LU Factorization](#3.-LU-Factorization)\n1. [Solving Ax = b](#3.-Solving-Ax-=-b)"
    },
    {
      "metadata": {
        "trusted": false
      },
      "cell_type": "code",
      "source": "%pylab inline",
      "execution_count": 1,
      "outputs": [
        {
          "name": "stdout",
          "output_type": "stream",
          "text": "Populating the interactive namespace from numpy and matplotlib\n"
        }
      ]
    },
    {
      "metadata": {},
      "cell_type": "markdown",
      "source": "## 1. Basics\n\nIn mathematics, a **system of linear equations** is a collection of two or more linear equations involving the same set of variables. For example:\n\n$\n\\begin{array}{c}\n3x & + & 2y & - & z & = & 1 \\\\\n2x & - & 2y & + & 4z & = & -2 \\\\\n-x & + & \\frac{1}{2}y & - & z & = & 0\n\\end{array}\n$\n\n![](https://notebooks.azure.com/menziess/libraries/Python-Linear-Algebra/raw/res%2FLinear_system.png)\nA linear system in three variables determines a collection of planes. The intersection point is the solution.\n\n$\n\\begin{array}{c}\nx & = & 1 \\\\\ny & = & -2 \\\\\nz & = & -2\n\\end{array}\n$\n\nSuch a system of linear equations can be written as:\n\n$\\begin{array}{c}\na_{11}x_1 + a_{12}x_2 + \\cdots + a_{1n}x_n = b_1 \\\\\na_{21}x_1 + a_{22}x_2 + \\cdots + a_{2n}x_n = b_2 \\\\\n\\qquad\\vdots\\qquad\\vdots\\\\\na_{m1}x_1 + a_{m2}x_2 + \\cdots + a_{mn}x_n = b_m \\\\\n\\end{array}$\n\nWhich can be expressed as a matrix vector multiplication $Ax = b$.\n\n### 1.1 Methods For Solving A Linear System\n\nThere are several methods for solving a linear system:\n\n- Describing the Solution\n- Elimination of Variables\n- Gaussian Elimination (or Row Reduction)\n- Cramer's Rule\n- Matrix Solution ($x = A^{-1}b$)\n\nIn Gaussian Elimination, the linear system is represented as an augmented matrix with a row for each variable:\n\n$$\n\\left[\n\\begin{array}{ccc|c}\n3 & 2 & -1 & 1 \\\\\n2 & -2 & 4 & -2 \\\\\n-1 & 0.5 & -1 & 0\n\\end{array}\n\\right]\n$$\n\n### 1.2 Types of Elementary Row Operations\n\nThe augmented matrix is then modified the following **three types of elementary row operations** until it reaches **reduced row echelon form**:\n\n1. Swap the positions of two rows.\n2. Multiply a row by a nonzero scalar.\n3. Add to one row a scalar multiple of another.\n\n### 1.3 Reduced Row Echelon Form\n\nRow Echelon Form:\n- all nonzero rows are above any rows of all zeroes\n- a leading coefficient (pivot) is strictly to the right of the leading coefficient of the row above\n\nReduced Row Echelon Form:\n- the matrix is in row echelon form\n- every leading coefficient is 1 and is the only nonzero entry in its column"
    },
    {
      "metadata": {},
      "cell_type": "markdown",
      "source": "## 2. Solving A Linear System\n\nFirst, we move the bottom row to the top and we multiply it by -1, because it has a leading coefficient that is conveniently one:\n\n$\n\\left[\n\\begin{array}{ccc|c}\n3 & 2 & -1 & 1 \\\\\n2 & -2 & 4 & -2 \\\\\n-1 & 0.5 & -1 & 0\n\\end{array}\n\\right]\n\\rightarrow$ \n$\n\\left[\n\\begin{array}{ccc|c}\n1 & -0.5 & 1 & 0 \\\\\n2 & -2 & 4 & -2 \\\\\n3 & 2 & -1 & 1 \\\\\n\\end{array}\n\\right]\n\\rightarrow$\n\nSecond row, minus two times first row, and third row minus three times first row:\n\n$\n\\left[\n\\begin{array}{ccc|c}\n1 & -0.5 & 1 & 0 \\\\\n0 & -1 & 2 & -2 \\\\\n0 & 3.5 & -4 & 1 \\\\\n\\end{array}\n\\right]\n\\rightarrow$\n\nMultiply second row with -1 so that the leading coefficient is one, then add half times row two to row one:\n\n$\n\\left[\n\\begin{array}{ccc|c}\n1 & -0.5 & 1 & 0 \\\\\n0 & 1 & -2 & 2 \\\\\n0 & 3.5 & -4 & 1 \\\\\n\\end{array}\n\\right]\n\\rightarrow$\n$\n\\left[\n\\begin{array}{ccc|c}\n1 & 0 & 0 & 1 \\\\\n0 & 1 & -2 & 2 \\\\\n0 & 3.5 & -4 & 1 \\\\\n\\end{array}\n\\right]\n\\rightarrow$\n\nThen subtract 3.5 times row two from row three, then divide row three by 3:\n\n$\n\\left[\n\\begin{array}{ccc|c}\n1 & 0 & 0 & 1 \\\\\n0 & 1 & -2 & 2 \\\\\n0 & 0 & 3 & -6 \\\\\n\\end{array}\n\\right]\n\\rightarrow$\n$\n\\left[\n\\begin{array}{ccc|c}\n1 & 0 & 0 & 1 \\\\\n0 & 1 & -2 & 2 \\\\\n0 & 0 & 1 & -2 \\\\\n\\end{array}\n\\right]\n\\rightarrow$\n\nNotice how both matrices are in **row echelon form**. Finally we add two times row three to row two to get the resulting matrix in **reduced row echelon form**:\n\n$\n\\left[\n\\begin{array}{ccc|c}\n1 & 0 & 0 & 1 \\\\\n0 & 1 & 0 & -2 \\\\\n0 & 0 & 1 & -2 \\\\\n\\end{array}\n\\right]$\n\nThe variables are:\n\n$\n\\begin{array}{c}\nx & = & 1 \\\\\ny & = & -2 \\\\\nz & = & -2\n\\end{array}\n$\n\nWe can verify whether our answer is correct by substituting the variables:\n\n$\n\\begin{array}{c}\n3x & + & 2y & - & z & = & 1 \\\\\n2x & - & 2y & + & 4z & = & -2 \\\\\n-x & + & \\frac{1}{2}y & - & z & = & 0\n\\end{array}\n$\n\n$\n\\begin{array}{c}\n3 & + & 2 * (-2) & - & (-2) & = & 1 \\\\\n2 & - & 2 * (-2) & + & 4 * (-2) & = & -2 \\\\\n-1 & + & 0.5 * (-2) & - & (-2) & = & 0\n\\end{array}\n$"
    },
    {
      "metadata": {},
      "cell_type": "markdown",
      "source": "## 3. LU Factorization\n\nLU factorization is used for solving linear systems. $LU$ (lower-upper) decomposition or factorization factors a matrix as the product of a lower triangular $L$ that stores the reverse order of gaussian elimination steps, and an upper triangular $U$ matrix. Since $L$ is a unit lower triangular, its diagonal needs not be stored.\n\nFind an LU decomposition for the matrix \n$A =\n\\begin{pmatrix}\n2 & 1 \\\\\n8 & 7\\\\\n\\end{pmatrix}\n$\n\nWe use gaussian elimination to get a row equivalent of $A$ that is upper triangular, depicting it as a matrix multiplication of an elimination matrix $E$ with $A$:\n\n$U =\n\\begin{pmatrix}\n1 & 0 \\\\\n4 & 1\\\\\n\\end{pmatrix}\n$$\\begin{pmatrix}\n2 & 1 \\\\\n8 & 7\\\\\n\\end{pmatrix}\n$$=\n\\begin{pmatrix}\n2 & 1 \\\\\n0 & 3\\\\\n\\end{pmatrix}\n$\n\nThe operation was:\n\n$L =\n\\begin{pmatrix}\n1 & 0 \\\\\n4 & 1\\\\\n\\end{pmatrix}\n$\n\nNow the $LU$ decomposition of $A$ is:\n\n$A = \n\\begin{pmatrix}\n2 & 1 \\\\\n8 & 7\\\\\n\\end{pmatrix}\n$$=\n\\begin{pmatrix}\n1 & 0 \\\\\n4 & 1\\\\\n\\end{pmatrix}\n$$\\begin{pmatrix}\n2 & 1 \\\\\n0 & 3\\\\\n\\end{pmatrix}\n= LU\n$"
    },
    {
      "metadata": {
        "trusted": false
      },
      "cell_type": "code",
      "source": "def LU_factorize(A):\n    \n    # Copy matrix\n    LU = A.copy()\n    nr_cols = LU.shape[1]\n    \n    # Loop over all columns, except the last one\n    for i in range(nr_cols - 1):\n        # Get leading coefficient to divide following rows\n        alpha = LU[i, i]\n        # Replace components with the elimination coefficient\n        LU[i + 1:, i] = LU[i + 1:, i] / alpha\n        # Calculate the outer product and subtract it from the rest of the matrix\n        LU[i + 1:, i + 1:] = LU[i + 1:, i + 1:] - LU[i + 1:, i] @ LU[i, 1 + i:]        \n        \n    return np.tril(LU, -1) + np.identity(nr_cols), np.triu(LU)",
      "execution_count": 2,
      "outputs": []
    },
    {
      "metadata": {
        "scrolled": true,
        "trusted": false
      },
      "cell_type": "code",
      "source": "A = np.matrix(\"2 1; 8 7\")\nL, U = LU_factorize(A)\n\nprint(A, \"Matrix A\", \"\\n\")\nprint(L, \"Unit lower matrix L\", \"\\n\")\nprint(U, \"Upper matrix U\", \"\\n\")",
      "execution_count": 3,
      "outputs": [
        {
          "name": "stdout",
          "output_type": "stream",
          "text": "[[2 1]\n [8 7]] Matrix A \n\n[[1. 0.]\n [4. 1.]] Unit lower matrix L \n\n[[2 1]\n [0 3]] Upper matrix U \n\n"
        }
      ]
    },
    {
      "metadata": {},
      "cell_type": "markdown",
      "source": "## 4. Solving Ax = b\n\nSolving $Ax = b$ where $x$ is a vector of variables is hard. It's easier when $A$ is an upper or lower triangular system. That's where LU factorization comes in.\n\nLets find the solution for\n$x = \n\\begin{pmatrix}\n\\chi_0 \\\\\n\\chi_1 \\\\\n\\chi_2 \\\\\n\\end{pmatrix}\n$\nof the system\n$\n\\begin{pmatrix}\n1 & 2 & 4 \\\\\n3 & 8 & 14 \\\\\n2 & 6 & 13 \\\\\n\\end{pmatrix}\n\\begin{pmatrix}\n\\chi_0 \\\\\n\\chi_1 \\\\\n\\chi_2 \\\\\n\\end{pmatrix}\n= \\begin{pmatrix}\n3 \\\\\n13 \\\\\n4 \\\\\n\\end{pmatrix}\n$"
    },
    {
      "metadata": {
        "scrolled": true,
        "trusted": false
      },
      "cell_type": "code",
      "source": "A = np.matrix(\"1 2 4; 3 8 14; 2 6 13\")\nx = np.array(['?', '?', '?'])\nb = np.array([3, 13, 4])\nprint(A, x, '=', b)",
      "execution_count": 4,
      "outputs": [
        {
          "name": "stdout",
          "output_type": "stream",
          "text": "[[ 1  2  4]\n [ 3  8 14]\n [ 2  6 13]] ['?' '?' '?'] = [ 3 13  4]\n"
        }
      ]
    },
    {
      "metadata": {},
      "cell_type": "markdown",
      "source": "### 4.1 LU factorization\n\nWe want to solve $Ax = b$, we can start by factoring $A$ into $LU$, giving us $LUx = b$."
    },
    {
      "metadata": {
        "trusted": false
      },
      "cell_type": "code",
      "source": "L, U = LU_factorize(A)\nprint(L, '\\n')\nprint(U, '\\n')\nprint(L @ U, x, '=', b)",
      "execution_count": 5,
      "outputs": [
        {
          "name": "stdout",
          "output_type": "stream",
          "text": "[[1. 0. 0.]\n [3. 1. 0.]\n [2. 1. 1.]] \n\n[[1 2 4]\n [0 2 2]\n [0 0 3]] \n\n[[ 1.  2.  4.]\n [ 3.  8. 14.]\n [ 2.  6. 13.]] ['?' '?' '?'] = [ 3 13  4]\n"
        }
      ]
    },
    {
      "metadata": {},
      "cell_type": "markdown",
      "source": "### 4.2 Forward Substitution\n\nWe know that $LUx = b$. Let $y = Ux$, then we can solve $Ly = b$ to find $y$."
    },
    {
      "metadata": {
        "trusted": false
      },
      "cell_type": "code",
      "source": "def LU_forward_substitution(L, b):\n    \n    # Copy vector\n    y = b.copy()\n    \n    # Calculate y, where we apply the elimination steps in L to b\n    for i in range(len(y)):\n        y[i + 1:] = y[i + 1:] - y[i] * L[i + 1:, i]\n    \n    return y",
      "execution_count": 6,
      "outputs": []
    },
    {
      "metadata": {
        "scrolled": true,
        "trusted": false
      },
      "cell_type": "code",
      "source": "# Step 2 - Solving Ly = b to find y\ny = LU_forward_substitution(L, b)\nprint(y)",
      "execution_count": 7,
      "outputs": [
        {
          "name": "stdout",
          "output_type": "stream",
          "text": "[ 3  4 -6]\n"
        }
      ]
    },
    {
      "metadata": {},
      "cell_type": "markdown",
      "source": "### 4.3 Backward Substitution\n\nNow that we know $y$, we can solve $Ux = y$ to find $x$, and we're done."
    },
    {
      "metadata": {
        "trusted": false
      },
      "cell_type": "code",
      "source": "def LU_back_substitution(U, b):\n\n    # Copy vector\n    x = b.copy()\n    \n    # Calculate x, starting at the bottom\n    for i in reversed(range(len(x))):\n        \n        # The current row in U contains the coefficients of the variables\n        # The bottom part of b contains the values of the variables\n        # The current index of b is the coefficient x each corresponding variable\n        # Finally this must be divided by the leading coefficient\n        x[i] = x[i] - U[i, i + 1:] @ x[i + 1:]\n        x[i] = x[i] / U[i, i]\n\n    return x",
      "execution_count": 8,
      "outputs": []
    },
    {
      "metadata": {
        "trusted": false
      },
      "cell_type": "code",
      "source": "x = LU_back_substitution(U, y)\nprint(A, '\\n')\nprint(x, '\\n')\nprint(A.dot(x))",
      "execution_count": 9,
      "outputs": [
        {
          "name": "stdout",
          "output_type": "stream",
          "text": "[[ 1  2  4]\n [ 3  8 14]\n [ 2  6 13]] \n\n[ 3  4 -2] \n\n[[ 3 13  4]]\n"
        }
      ]
    },
    {
      "metadata": {},
      "cell_type": "markdown",
      "source": "So, $x =\n\\begin{pmatrix}\n3 \\\\\n4 \\\\\n-2 \\\\\n\\end{pmatrix}\n$."
    }
  ],
  "metadata": {
    "kernelspec": {
      "name": "python36",
      "display_name": "Python 3.6",
      "language": "python"
    },
    "language_info": {
      "mimetype": "text/x-python",
      "nbconvert_exporter": "python",
      "name": "python",
      "pygments_lexer": "ipython3",
      "version": "3.6.6",
      "file_extension": ".py",
      "codemirror_mode": {
        "version": 3,
        "name": "ipython"
      }
    }
  },
  "nbformat": 4,
  "nbformat_minor": 2
}