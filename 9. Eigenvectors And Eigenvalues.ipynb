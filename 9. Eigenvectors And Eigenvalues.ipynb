{
  "cells": [
    {
      "metadata": {
        "collapsed": true
      },
      "cell_type": "markdown",
      "source": "# 9. Eigenvectors And Eigenvalues\n\n1. [The Algebraic Eigenvalue Problem](#1.-The-Algebraic-Eigenvalue-Problem)\n1. [Computing Eigenvectors And Eigenvalues](#2.-Computing-Eigenvectors-And-Eigenvalues)\n1. [General $n \\times n$ Matrices](#3.-General-$n-%5Ctimes-n$-Matrices)"
    },
    {
      "metadata": {
        "trusted": false
      },
      "cell_type": "code",
      "source": "%pylab inline",
      "execution_count": 2,
      "outputs": [
        {
          "name": "stdout",
          "output_type": "stream",
          "text": "Populating the interactive namespace from numpy and matplotlib\n"
        }
      ]
    },
    {
      "metadata": {},
      "cell_type": "markdown",
      "source": "## 1. The Algebraic Eigenvalue Problem\n\n$Ax = \\lambda x$\n\nGiven: $A\\in \\mathbb{R}^{n\\times n}$\n\nTo be computed: \n- Eigenvalues $\\lambda$\n- Eigenvectors $x\\neq 0$ associated with each $\\lambda$\n- Eigenpairs $(\\lambda, x)$ so that satisfy $Ax = \\lambda x$ for some matrix $A$\n\nThe steps, where $x\\neq 0$:\n- $Ax = \\lambda x$\n- $Ax - \\lambda x = 0$\n- $Ax - \\lambda Ix = 0$\n- $(A-\\lambda I)x = 0$\n- Find $\\lambda$ so that $A-\\lambda I$ is singular\n- Find all $x\\neq 0$ so that $(A-\\lambda I)x = 0$\n- Find all $x\\in \\mathcal{N}(A-\\lambda I)$ (discard $x=0$)\n\n### 1.1 Example Diagonal Matrix\n\nLet $A = \n\\begin{pmatrix}\n3 & 0 \\\\\n0 & -1\n\\end{pmatrix}\n$\n\nThe eigenpairs for this matrix can be computed by subtracting $\\lambda$ times the identity from $A$ so that the matrix is singular, and solving $(A-\\lambda I)x = 0$ for $x$. We could for example:\n- subtract 3 times the identity  \n$\n\\begin{pmatrix}\n3 & 0 \\\\\n0 & -1\n\\end{pmatrix}\n$ $-3\n\\begin{pmatrix}\n1 & 0 \\\\\n0 & 1\n\\end{pmatrix}\n$ $=\n\\begin{pmatrix}\n0 & 0 \\\\\n0 & -4\n\\end{pmatrix}\n$\n- or; subtract (-1) times the identity  \n$\n\\begin{pmatrix}\n3 & 0 \\\\\n0 & -1\n\\end{pmatrix}\n$ $--1\n\\begin{pmatrix}\n1 & 0 \\\\\n0 & 1\n\\end{pmatrix}\n$ $=\n\\begin{pmatrix}\n4 & 0 \\\\\n0 & 0\n\\end{pmatrix}\n$ \n\nSo that the matrix is singular, leaving us with:\n\n- $\n\\begin{pmatrix}\n0 & 0 \\\\\n0 & -4\n\\end{pmatrix}\nx = 0$\n- $\n\\begin{pmatrix}\n4 & 0 \\\\\n0 & 0\n\\end{pmatrix}\nx= 0$\n\nSolving for $x$ would mean that, respectively, these are eigenpairs:\n\n- $(3, \n\\begin{pmatrix}\n1 \\\\\n0\n\\end{pmatrix}\n)$\n- $(-1, \n\\begin{pmatrix}\n0 \\\\\n1\n\\end{pmatrix}\n)$\n\nThe eigenvalue and eigenvector for which $(A - \\lambda I)x = 0$.\n\n### 1.2 Generally For Diagonal Matrix\n\nThe diagonal elements $\\delta_i$ are the eigenvalues, and the unit basis vectors $e_i$ are the corresponding eigenvectors, subtracting $\\delta_iI$ from $A$ makes it singular:\n\n$(\\delta_i, e_i)$ for:\n\n$\n\\begin{bmatrix}\n\\begin{pmatrix}\n\\delta_0 & 0 & \\ldots & 0 \\\\\n0 & \\delta_1 & \\ldots & 0 \\\\\n\\ldots & \\ldots & \\ddots & \\ldots \\\\\n0 & 0 & \\ldots & \\delta_{n-1} \\\\\n\\end{pmatrix}\n& - \\lambda I\n\\end{bmatrix}\nx=0\n$\n\n### 1.3 Example Upper-Triangular Matrix\n\nLet $A=\n\\begin{pmatrix}\n3 & 1 \\\\\n0 & -1\n\\end{pmatrix}\n$\n\nUsing the same strategy, we subtract $\\delta_i$ times the $I$-matrix from $A$:\n\n- subtract 3 times the identity  \n$\n\\begin{pmatrix}\n3 & 1 \\\\\n0 & -1\n\\end{pmatrix}\n$ $-3\n\\begin{pmatrix}\n1 & 0 \\\\\n0 & 1\n\\end{pmatrix}\n$ $=\n\\begin{pmatrix}\n0 & 1 \\\\\n0 & -4\n\\end{pmatrix}\n$\n- or; subtract (-1) times the identity  \n$\n\\begin{pmatrix}\n3 & 1 \\\\\n0 & -1\n\\end{pmatrix}\n$ $--1\n\\begin{pmatrix}\n1 & 0 \\\\\n0 & 1\n\\end{pmatrix}\n$ $=\n\\begin{pmatrix}\n4 & 1 \\\\\n0 & 0\n\\end{pmatrix}\n$ \n\nSo that the matrix is singular, leaving us with:\n\n- $\n\\begin{pmatrix}\n0 & 1 \\\\\n0 & -4\n\\end{pmatrix}\nx = 0$\n- $\n\\begin{pmatrix}\n4 & 1 \\\\\n0 & 0\n\\end{pmatrix}\nx= 0$\n\nSolving for $x$ would mean that, respectively, these are eigenpairs:\n\n- $(3, \n\\begin{pmatrix}\n1 \\\\\n0\n\\end{pmatrix}\n)$\n- $(-1, \n\\begin{pmatrix}\n-1 \\\\\n4\n\\end{pmatrix}\n)$\n\n### 1.4 Generally For Upper-Triangular Matrix\n\nThe diagonal elements $\\upsilon_{i, i}$ are the eigenvalues, the solutions to $(A-\\upsilon_{i,i}I)x=0$ are the eigenvectors, if $U-\\upsilon_{i,i}I$ has a zero on the diagonal (it's singular):\n\n$\n\\begin{bmatrix}\n\\begin{pmatrix}\n\\upsilon_{0,0} & \\upsilon_{0, 1} & \\ldots & \\upsilon_{0, n-1} \\\\\n0 & \\upsilon_{1, 1} & \\ldots & \\upsilon_{1, n-1} \\\\\n\\ldots & \\ldots & \\ddots & \\ldots \\\\\n0 & 0 & \\ldots & \\upsilon_{n-1, n-1} \\\\\n\\end{pmatrix}\n& - \\lambda I\n\\end{bmatrix}\nx=0\n$\n\n### 1.5 Example Symmetric Matrix\n\nLet $A=\n\\begin{pmatrix}\n1 & -1 \\\\\n2 & 4\n\\end{pmatrix}\n$\n\nWe subtract $\\lambda I$, but we must be sure that the resulting matrix is singular. Previously we had zeroes on the diagonals, but this time the diagonal has nonzero values, thus $det(A) \\neq 0$. The determinant is calculated by:\n\n$(1)(4) - (2)(-1) = 6$\n\nWe want to know for which values $\\lambda$, the determinant equals zero:\n\n- $det(\n\\begin{pmatrix}\n1 - \\lambda & -1 \\\\\n2 & 4-\\lambda\n\\end{pmatrix}\n)=0$\n- $(1 - \\lambda)(4 - \\lambda) - (2)(-1) = 0$\n- $\\lambda^2 - 5\\lambda+4+2=0$\n- $(\\lambda - 2)(\\lambda - 3) = 0$\n\nSo the eigenvalue can either be $2$ or $3$ so that $(A-\\lambda I)$ is singular:\n- subtract 2 times the identity  \n$\n\\begin{pmatrix}\n1 & -1 \\\\\n2 & 4\n\\end{pmatrix}\n$ $-2\n\\begin{pmatrix}\n1 & 0 \\\\\n0 & 1\n\\end{pmatrix}\n$ $=\n\\begin{pmatrix}\n-1 & -1\\\\\n2 & 2\n\\end{pmatrix}\n$\n- or; subtract 3 times the identity  \n$\n\\begin{pmatrix}\n1 & -1 \\\\\n2 & 4\n\\end{pmatrix}\n$ $-4\n\\begin{pmatrix}\n1 & 0 \\\\\n0 & 1\n\\end{pmatrix}\n$ $=\n\\begin{pmatrix}\n-2 & -1 \\\\\n2 & 1\n\\end{pmatrix}\n$ \n\nSo that the matrix is singular, leaving us with:\n\n- $\n\\begin{pmatrix}\n-1 & -1\\\\\n2 & 2\n\\end{pmatrix}\nx = 0$\n- $\n\\begin{pmatrix}\n-2 & -1 \\\\\n2 & 1\n\\end{pmatrix}\nx= 0$\n\nSolving for $x$ would mean that, respectively, these are eigenpairs:\n\n- $(2, \n\\begin{pmatrix}\n-1 \\\\\n1\n\\end{pmatrix}\n)$\n- $(3, \n\\begin{pmatrix}\n-1 \\\\\n2\n\\end{pmatrix}\n)$\n\n### 1.6 Example Non-Symmetric Matrix\n\nLet $A=\n\\begin{pmatrix}\n3 & -1\\\\\n2 & 1\n\\end{pmatrix}\n$\n\n$det(\n\\begin{pmatrix}\n3-\\lambda & -1\\\\\n2 & 1-\\lambda\n\\end{pmatrix}\n)=0$\n\n- $(3-\\lambda)(1-\\lambda)-(2)(-1)=0$\n- $\\lambda^2 -4\\lambda + 5$\n\nHere we use the quadratic formula (remember that when $b^2-4ac$ is positive, we get two solutions, when it's zero we get one, when it's negative, we get a complex solution):\n\n- $x = \\frac{-b \\pm \\sqrt{b^2-4ac}}{2a}$\n\n\n- $x = \\frac{--4 \\pm \\sqrt{-4^2-4*1*5}}{2*1}$\n\n\n- $x = \\frac{4 \\pm \\sqrt{-4}}{2}$\n\n\nWe can see that this matrix with real valued elements can have complex valued eigenvalues. \n\n\n- $x = \\frac{2 \\pm \\sqrt{-4}}{1}$\n\n\n- $x = 2 \\pm i$\n\n\nSo this matrix has imaginary eigenvectors:\n- $\n\\begin{pmatrix}\n-1 - i & -1\\\\\n2 & 2 - i\n\\end{pmatrix}\nx=0$\n\n$\n\\begin{pmatrix}\n-1 + i & -1\\\\\n2 & 2 + i\n\\end{pmatrix}\nx=0$\n\nThese eigenvectors can not be visualized in 2D space, we would need a 4D visualization."
    },
    {
      "metadata": {},
      "cell_type": "markdown",
      "source": "## 2. Diagonalization\n\nFinding eigenvalues and eigenvectors is also referred to as diagonalization. Given $A \\in \\mathbb{R}^{n\\times n}$, compute a nonsingular $X$ such that:\n\n$X^{-1}AX=\\Lambda$\n\nWhere $\\Lambda$ is a diagonal matrix.\n\nThis is only possible if a nonsingular / invertible matrix $X$, and a diagonal matrix $\\Lambda$ exist such that $X^{-1}AX=\\Lambda$. And this is only the case if $A$ has $n$ linearly independent eigenvectors.\n\n### 2.1 A Working Example\n\nFind all eigenpairs $(\\lambda, x)$: $\n\\begin{pmatrix}\n1 & -1 \\\\\n2 & 4\n\\end{pmatrix}\nx = \\lambda x$\n\nIn a previous example, we had found: \n\n- $(2, \n\\begin{pmatrix}\n-1 \\\\\n1\n\\end{pmatrix}\n)$\n- $(3, \n\\begin{pmatrix}\n-1 \\\\\n2\n\\end{pmatrix}\n)$\n\nIf we create a matrix out of the eigenvector that we found, we get:\n\n$\n\\begin{pmatrix}\n1 & -1 \\\\\n2 & 4\n\\end{pmatrix}\n$ $\n\\begin{pmatrix}\n-1 & -1\\\\\n1 & 2\n\\end{pmatrix}\n$ $=\n\\begin{pmatrix}\n2\n\\begin{pmatrix}\n-1 \\\\\n1\n\\end{pmatrix}\n& 3\n\\begin{pmatrix}\n-1 \\\\\n2\n\\end{pmatrix}\n\\end{pmatrix}\n$ $ =\n\\begin{pmatrix}\n-1 & -1 \\\\\n1 & 2\n\\end{pmatrix}\n$ $\n\\begin{pmatrix}\n2 & 0 \\\\\n0 & 3\n\\end{pmatrix}\n$\n\nNow the last matrix contains the eigenvalues on the diagonal. This matrix scales the columns of the matrix on the left side.\n\n$A=\n\\begin{pmatrix}\n1 & -1 \\\\\n2 & 4\n\\end{pmatrix}\n$ \n\n$ X =\n\\begin{pmatrix}\n-1 & -1\\\\\n1 & 2\n\\end{pmatrix}\n$\n\n$ \\Lambda =\n\\begin{pmatrix}\n2 & 0 \\\\\n0 & 3\n\\end{pmatrix}\n$\n\nThen finally, $X^{-1}AX=\\Lambda$:\n\n$\n\\begin{pmatrix}\n-1 & -1 \\\\\n1 & 2\n\\end{pmatrix}^{-1}\n$ $\n\\begin{pmatrix}\n1 & -1 \\\\\n2 & 4\n\\end{pmatrix}\n$ $\n\\begin{pmatrix}\n-1 & -1 \\\\\n1 & 2\n\\end{pmatrix}\n$ $ =\n\\begin{pmatrix}\n2 & 0 \\\\\n0 & 3\n\\end{pmatrix}\n$"
    },
    {
      "metadata": {},
      "cell_type": "markdown",
      "source": "### 2.2 A Non-Working Example\n\nMatrix $A$ can only be diagonalized if it has $n$ linearly independent eigenvectors. Otherwise it is called deficient.\n\nLet $A=\n\\begin{pmatrix}\n0 & 1\\\\\n0 & 0\n\\end{pmatrix}\n$\n\n$\\lambda = 0$. The dimension of the null space of $(A-\\lambda I)$ is one, as it has one free variable. So there's only one linearly independent eigenvector for this matrix. So in order to find the linearly independent columns of $X$ so that it has an inverse, where the columns would consist of the eigenvectors, would not be possible."
    },
    {
      "metadata": {},
      "cell_type": "markdown",
      "source": "### 2.3 Useful Tools\n\nThe diagonalization can be written as:\n\n$X^{-1}AX=\\Lambda \\Leftrightarrow$\n\n$AX=X\\Lambda \\Leftrightarrow$\n\n$A= X\\Lambda X^{-1}$"
    },
    {
      "metadata": {},
      "cell_type": "markdown",
      "source": "## 3. General $n \\times n$ Matrices\n\nA characteristic polynomial of a square matrix has eigenvalues as roots, and has the determinant and the trace of the matrix as its coefficients.\n\nLet $A\\in \\mathbb{R}^{n\\times n}$\n\nThe characteristic polynomial of matrix $A$ is denoted by $p_n(\\lambda) = det(A-\\lambda I)$\n\n- $A$ is nonsingular if and only if the determinant is nonzero \n- The roots of $p_n(\\lambda)$ are the eigenvalues of $A$\n- $p_n(\\lambda)$ is a $n$-degree polynomial, so it has $n$ roots / eigenvalues:  \n  $\\gamma_0 + \\gamma_1\\lambda + \\ldots + \\gamma_{n-1}\\lambda^{n-1}+\\lambda^n$  \n  where $\\gamma_0, \\ldots, \\gamma_{n-1} \\in \\mathbb{R}$  \n  where $n$ is the **algebraic multiplicity** of the root  \n  where the sum of the roots add up to $n$\n- It has $k$ distinct roots, with $k\\leq n$\n- The set of all eigenvalues of $A$ is the **spectrum** of $A$ or $\\Lambda(A)$\n- $A$ has $k=|\\Lambda(A)|$ distinct eigenvalues\n- Eigenvalues can be complex valued, then they come in conjugate pairs:  \n  $\\lambda=\\lambda_R + i\\lambda_C$  \n  $\\bar{\\lambda}=\\lambda_R - i\\lambda_C$  \n  where R is real and C is a complex part\n  \n### 3.1 Geometric VS Algebraic Multiplicity\n\n- The geometric multiplicity of an eigenvalue $\\lambda$ of $A$ is the dimension of the **eigenspace** of $A$ for $\\lambda$. \n- The algebraic multiplicity of an eigenvalue $\\lambda$ of $A$ is the number of times $\\lambda$ appears as a root of $p_n(\\lambda)$.\n\nLet $A\\in \\mathbb{R}^{n\\times n}, \\lambda\\in\\Lambda(A)$, and $S$ be the set of all vectors $x$ such that $Ax=\\lambda x$, and let $\\lambda$ have algebraic multiplicity of $k$.\n\nLet $A=\n\\begin{pmatrix}\n1 & 0\\\\\n0 & 1\n\\end{pmatrix}$\n\nMatrix $A$ has 1 as its only eigenvalue, and it has an algebraic multiplicity of 2. Both $e_0, e_1$ are corresponding eigenvectors, so $S = \\mathbb{R}^2$, which has dimension 2.\n\nLet $A=\n\\begin{pmatrix}\n1 & 1\\\\\n0 & 1\n\\end{pmatrix}$\n\nIn this example $A$ has 1 as its only eigenvalue, and it has an algebraic multiplicity of 2. Since $S$ is the null space, it's dimension is equal to 1, because the matrix has only one pivot, so $2 - 1 = 1$."
    }
  ],
  "metadata": {
    "kernelspec": {
      "name": "python36",
      "display_name": "Python 3.6",
      "language": "python"
    },
    "language_info": {
      "mimetype": "text/x-python",
      "nbconvert_exporter": "python",
      "name": "python",
      "pygments_lexer": "ipython3",
      "version": "3.6.6",
      "file_extension": ".py",
      "codemirror_mode": {
        "version": 3,
        "name": "ipython"
      }
    }
  },
  "nbformat": 4,
  "nbformat_minor": 2
}