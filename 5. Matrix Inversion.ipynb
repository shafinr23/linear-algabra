{
  "cells": [
    {
      "metadata": {
        "collapsed": true
      },
      "cell_type": "markdown",
      "source": "# 5. Matrix Inversion\n\nA basic understanding of python and numpy arrays is useful for understanding the code snippets.\n\n1. [Basics](#1.-Basics)\n1. [The-Determinant](#2.-The-Determinant)\n1. [Permutations](#3.-Permutations)\n1. [Calculating-The-Inverse](#4.-Calculating-The-Inverse)"
    },
    {
      "metadata": {
        "trusted": true
      },
      "cell_type": "code",
      "source": "%pylab inline",
      "execution_count": 1,
      "outputs": [
        {
          "output_type": "stream",
          "text": "Populating the interactive namespace from numpy and matplotlib\n",
          "name": "stdout"
        }
      ]
    },
    {
      "metadata": {},
      "cell_type": "markdown",
      "source": "## 1. Basics\n\nInverse means the reverse direction or position. An inverse operation undoes what was done by the previous operation. There are four mathematical properties that deal with inverses:\n\n- **The Additive Property:** Adding any number to 0 gives the same number\n- **Additive Inverse Property:** Adding any number to its inverse results in 0\n- **The Multiplicative Property:** multiplying any number by 1 gives the same number\n- **The Multiplicative Inverse Property:** multiplying any number with its inverse (reciprocal) results in 1\n\nThe inverse of a matrix is denoted by the negative one exponent: $A^{-1}$ and exists if and only if the following statements are true:\n\n- $A$ is nonsingular\n- $A$ is invertible\n- $A^{-1}$ exists\n- $AA^{-1} = A^{-1}A = I$\n- $A$ represents a linear transformation that is a bijection\n- $Ax = b$ has a unique solution for all $b \\in \\mathbb{R}^n$\n- $Ax = 0$ implies $x = 0$\n- $Ax = e_j$ has a solution for all $j \\in \\{0, \\ldots, n-1\\}$\n- The determinant of $A$ is nonzero: $det(A) \\neq 0$\n- LU with partial pivoting does not break down\n- $\\mathcal{C}(A)=\\mathbb{R}^n$\n- $\\mathcal{N}(A)=0$\n- $A$ has linearly independent columns (not linearly dependent)\n- rank($A$) = n\n\nAssume $A$, $B$, and $C$ are square nonsingular matrices, then:\n\n- $(\\alpha B)^{-1} = \\frac{1}{\\alpha}B^{-1}$\n- $(AB)^{-1} = B^{-1}A^{-1}$\n- $(ABC)^{-1} = C^{-1}B^{-1}A^{-1}$\n- $(A^{T})^{-1} = (A^{-1})^{T}$\n- $(A^{-1})^{-1} = A$"
    },
    {
      "metadata": {},
      "cell_type": "markdown",
      "source": "## 2. The Determinant\n\nThe determinant tells you how much some transformation $A$ scales areas. The determinant is a value that can be computed from the elements of a square matrix, and is denoted as $det(A)$, $det$ $A$ or $\\lvert A\\rvert$.\n\n$\\begin{vmatrix} a & b & c & d\\\\e & f & g & h\\\\i & j & k & l\\\\m & n & o & p \\end{vmatrix}=a\\,\\begin{vmatrix} f & g & h\\\\j & k & l\\\\n & o & p \\end{vmatrix}-b\\,\\begin{vmatrix} e & g & h\\\\i & k & l\\\\m & o & p \\end{vmatrix}+c\\,\\begin{vmatrix} e & f & h\\\\i & j & l\\\\m & n & p \\end{vmatrix}-d\\,\\begin{vmatrix} e & f & g\\\\i & j & k\\\\m & n & o \\end{vmatrix}$\n\nThe determinant of a matrix is zero if:\n\n- It has a row or column of zeroes\n- It has two equal rows or columns\n- It has two proportional rows or columns\n- It has a row or column that can be created by adding or subtracting"
    },
    {
      "metadata": {
        "trusted": true
      },
      "cell_type": "code",
      "source": "def det2x2(A):\n    '''Calculates the determinant of a 2x2 matrix'''\n    assert A.shape == (2, 2), \"This is not a 2 by 2 matrix\"\n    return A[0, 0] * A[1, 1] - A[1, 0] * A[0, 1]",
      "execution_count": 2,
      "outputs": []
    },
    {
      "metadata": {
        "trusted": true
      },
      "cell_type": "code",
      "source": "A = np.matrix(\"3 8; 4 6\")\ndet2x2(A)",
      "execution_count": 3,
      "outputs": [
        {
          "output_type": "execute_result",
          "execution_count": 3,
          "data": {
            "text/plain": "-14"
          },
          "metadata": {}
        }
      ]
    },
    {
      "metadata": {
        "trusted": true
      },
      "cell_type": "code",
      "source": "def det3x3(A):\n    '''Calculates the determinant of a 3x3 matrix'''\n    assert A.shape == (3, 3), \"This is not a 3 by 3 matrix\"\n    return A[0, 0] * det2x2(A[1:, 1:]) - A[0, 1] * det2x2(A[1:, [0, 2]]) + A[0, 2] * det2x2(A[1:, :-1])",
      "execution_count": 4,
      "outputs": []
    },
    {
      "metadata": {
        "trusted": true,
        "scrolled": true
      },
      "cell_type": "code",
      "source": "A = np.matrix(\"3 8 2; 4 6 -2; 1 2 3\")\ndet3x3(A)",
      "execution_count": 5,
      "outputs": [
        {
          "output_type": "execute_result",
          "execution_count": 5,
          "data": {
            "text/plain": "-42"
          },
          "metadata": {}
        }
      ]
    },
    {
      "metadata": {},
      "cell_type": "markdown",
      "source": "For bigger matrices, the **numpy.linalg.det(A)** function can be used."
    },
    {
      "metadata": {},
      "cell_type": "markdown",
      "source": "## 3. Permutations\n\nGaussian elimination may eventually run into the problem that an element is divided by zero. This problem can in some cases be solved by row swapping using a permutation matrix.\n\nLet $p = \\begin{pmatrix}\nk_0 \\\\\nk_1 \\\\\n\\vdots \\\\\nk_{n-1} \\\\\n\\end{pmatrix}$\nbe a permutation vector, then \n- $k_j \\in \\{0, \\ldots, n-1\\}$, for $0\\leq j \\lt n;$ and \n- $k_i = k_j$ implies $i = j$\n\nIn other words, $p$ is a rearrangement of the numbers $0, \\ldots, n-1$ (without repetition)."
    },
    {
      "metadata": {
        "scrolled": false,
        "trusted": true
      },
      "cell_type": "code",
      "source": "A = np.matrix(\"0 0 2 0; 1 0 0 1; 0 -1 3 0; 2 1 5 -3\")\np = np.array([0, 2, 1, 3])\nA, p",
      "execution_count": 6,
      "outputs": [
        {
          "output_type": "execute_result",
          "execution_count": 6,
          "data": {
            "text/plain": "(matrix([[ 0,  0,  2,  0],\n         [ 1,  0,  0,  1],\n         [ 0, -1,  3,  0],\n         [ 2,  1,  5, -3]]), array([0, 2, 1, 3]))"
          },
          "metadata": {}
        }
      ]
    },
    {
      "metadata": {},
      "cell_type": "markdown",
      "source": "Let $p = (k_0, \\ldots, k_{n-1})^T$ be a permutation vector. \n\nConsider\n$P = P(p) =\n\\begin{pmatrix}\ne_{k_0}^T \\\\\ne_{k_1}^T \\\\\n\\vdots \\\\\ne_{k_{n-1}}^T \\\\\n\\end{pmatrix}\n$\nand\n$A =\n\\begin{pmatrix}\na_0 &\na_1 &\n\\ldots  &\na_{n-1}\n\\end{pmatrix}\n$\n\nThen \n$AP^T =\n\\begin{pmatrix}\na_{k_0} &\na_{k_1} &\n\\ldots  &\na_{k_{n-1}}\n\\end{pmatrix}\n$"
    },
    {
      "metadata": {
        "trusted": true
      },
      "cell_type": "code",
      "source": "def P(*positions):\n    return np.matrix([[1 if j == index \n                       else 0 \n                       for j in positions] \n                      for index, i in enumerate(positions)]).T\n    \nP(*p)",
      "execution_count": 7,
      "outputs": [
        {
          "output_type": "execute_result",
          "execution_count": 7,
          "data": {
            "text/plain": "matrix([[1, 0, 0, 0],\n        [0, 0, 1, 0],\n        [0, 1, 0, 0],\n        [0, 0, 0, 1]])"
          },
          "metadata": {}
        }
      ]
    },
    {
      "metadata": {},
      "cell_type": "markdown",
      "source": "A permutation matrix, which is a nonsingular matrix for which the determinant is always 1 or -1, can be used to swap the rows or columns of a matrix. "
    },
    {
      "metadata": {
        "trusted": true
      },
      "cell_type": "code",
      "source": "# Swap rows\nP(*p) @ A",
      "execution_count": 8,
      "outputs": [
        {
          "output_type": "execute_result",
          "execution_count": 8,
          "data": {
            "text/plain": "matrix([[ 0,  0,  2,  0],\n        [ 0, -1,  3,  0],\n        [ 1,  0,  0,  1],\n        [ 2,  1,  5, -3]])"
          },
          "metadata": {}
        }
      ]
    },
    {
      "metadata": {
        "trusted": true
      },
      "cell_type": "code",
      "source": "# Swap columns\nA @ P(*p).T",
      "execution_count": 9,
      "outputs": [
        {
          "output_type": "execute_result",
          "execution_count": 9,
          "data": {
            "text/plain": "matrix([[ 0,  2,  0,  0],\n        [ 1,  0,  0,  1],\n        [ 0,  3, -1,  0],\n        [ 2,  5,  1, -3]])"
          },
          "metadata": {}
        }
      ]
    },
    {
      "metadata": {},
      "cell_type": "markdown",
      "source": "## 4. Calculating The Inverse\n\nIf we were to calculate the inverse of matrix $A$ below, we would use the fact that $AA^{-1} = I$ to solve $Ax = b$, where $x$ is the unknown inverse of $A$ and $b$ is the identity.\n\nLet $A = \\begin{bmatrix}\n-1 & -4 & -2 \\\\\n2 & 6 & 2   \\\\ \n-1 & 0 & 3 \\\\\n\\end{bmatrix}$\n\nWhen we append the identity to matrix $A$ and solve the system such that $E[A\\mid I] = [I\\mid A^{-1}]$."
    },
    {
      "metadata": {
        "trusted": true,
        "scrolled": true
      },
      "cell_type": "code",
      "source": "# Prevent rounding errors / accurate estimations of zero\nnp.set_printoptions(suppress=True)\n\nA = np.matrix(\"0 0 2 0; 1 0 0 1; 0 -1 3 0; 2 1 5 -3\")\nA_augmented = np.append(A, np.identity(len(A)), axis = 1)\nA_augmented",
      "execution_count": 10,
      "outputs": [
        {
          "output_type": "execute_result",
          "execution_count": 10,
          "data": {
            "text/plain": "matrix([[ 0.,  0.,  2.,  0.,  1.,  0.,  0.,  0.],\n        [ 1.,  0.,  0.,  1.,  0.,  1.,  0.,  0.],\n        [ 0., -1.,  3.,  0.,  0.,  0.,  1.,  0.],\n        [ 2.,  1.,  5., -3.,  0.,  0.,  0.,  1.]])"
          },
          "metadata": {}
        }
      ]
    },
    {
      "metadata": {},
      "cell_type": "markdown",
      "source": "### 4.1 Is $A$ Invertible\n\nBefore we start calculating the inverse, we determine whether such inverse exists for $A$:"
    },
    {
      "metadata": {
        "trusted": true
      },
      "cell_type": "code",
      "source": "# If the determinant is non-zero, A is nonsingular\nnumpy.linalg.det(A)",
      "execution_count": 11,
      "outputs": [
        {
          "output_type": "execute_result",
          "execution_count": 11,
          "data": {
            "text/plain": "9.999999999999998"
          },
          "metadata": {}
        }
      ]
    },
    {
      "metadata": {},
      "cell_type": "markdown",
      "source": "So it would seem that $A^{-1}$ exists.\n\n### 4.2 Permutation\n\nRight at the start we notice that the diagonal elements of $A$ contain zeroes. Therefore we must swap row one with row two, and row two with row three, using a permutation matrix:\n\n$P(\n\\begin{pmatrix}\n1 \\\\ \n2 \\\\ \n0 \\\\ \n3 \\\\\n\\end{pmatrix})\n$$=\n\\begin{pmatrix}\n0 & 1 & 0 & 0 \\\\\n0 & 0 & 1 & 0 \\\\\n1 & 0 & 0 & 0 \\\\\n0 & 0 & 0 & 1 \\\\\n\\end{pmatrix}$"
    },
    {
      "metadata": {
        "trusted": true,
        "scrolled": true
      },
      "cell_type": "code",
      "source": "# First row goes down two rows\nP0 = P(1, 2, 0, 3)\nA0 = P0 @ A_augmented\n\nprint(A0)",
      "execution_count": 12,
      "outputs": [
        {
          "output_type": "stream",
          "text": "[[ 1.  0.  0.  1.  0.  1.  0.  0.]\n [ 0. -1.  3.  0.  0.  0.  1.  0.]\n [ 0.  0.  2.  0.  1.  0.  0.  0.]\n [ 2.  1.  5. -3.  0.  0.  0.  1.]]\n",
          "name": "stdout"
        }
      ]
    },
    {
      "metadata": {},
      "cell_type": "markdown",
      "source": "### 4.3 Gauss-Jordan Elimination\n\nNow that the diagonal contains non-zero values, we can perform gaussian elimination:"
    },
    {
      "metadata": {
        "trusted": true
      },
      "cell_type": "code",
      "source": "# Eliminate the two in the last row\nE1 = np.matrix(\"1 0 0 0; 0 1 0 0; 0 0 1 0; -2 0 0 1\")\nA1 = E1 @ A0\nA1",
      "execution_count": 13,
      "outputs": [
        {
          "output_type": "execute_result",
          "execution_count": 13,
          "data": {
            "text/plain": "matrix([[ 1.,  0.,  0.,  1.,  0.,  1.,  0.,  0.],\n        [ 0., -1.,  3.,  0.,  0.,  0.,  1.,  0.],\n        [ 0.,  0.,  2.,  0.,  1.,  0.,  0.,  0.],\n        [ 0.,  1.,  5., -5.,  0., -2.,  0.,  1.]])"
          },
          "metadata": {}
        }
      ]
    },
    {
      "metadata": {
        "trusted": true
      },
      "cell_type": "code",
      "source": "# Negate second row, and eliminate one in the last row\nE2 = np.matrix(\"1 0 0 0; 0 -1 0 0; 0 0 1 0; 0 1 0 1\")\nA2 = E2 @ A1\nA2",
      "execution_count": 14,
      "outputs": [
        {
          "output_type": "execute_result",
          "execution_count": 14,
          "data": {
            "text/plain": "matrix([[ 1.,  0.,  0.,  1.,  0.,  1.,  0.,  0.],\n        [ 0.,  1., -3.,  0.,  0.,  0., -1.,  0.],\n        [ 0.,  0.,  2.,  0.,  1.,  0.,  0.,  0.],\n        [ 0.,  0.,  8., -5.,  0., -2.,  1.,  1.]])"
          },
          "metadata": {}
        }
      ]
    },
    {
      "metadata": {
        "trusted": true
      },
      "cell_type": "code",
      "source": "# Divide third row by two, and eliminate minus three in \n# the second row, and eight in the last row\nE3 = np.matrix(\"1 0 0 0; 0 1 1.5 0; 0 0 0.5 0; 0 0 -4 1\")\nA3 = E3 @ A2\nA3",
      "execution_count": 15,
      "outputs": [
        {
          "output_type": "execute_result",
          "execution_count": 15,
          "data": {
            "text/plain": "matrix([[ 1. ,  0. ,  0. ,  1. ,  0. ,  1. ,  0. ,  0. ],\n        [ 0. ,  1. ,  0. ,  0. ,  1.5,  0. , -1. ,  0. ],\n        [ 0. ,  0. ,  1. ,  0. ,  0.5,  0. ,  0. ,  0. ],\n        [ 0. ,  0. ,  0. , -5. , -4. , -2. ,  1. ,  1. ]])"
          },
          "metadata": {}
        }
      ]
    },
    {
      "metadata": {
        "trusted": true,
        "scrolled": true
      },
      "cell_type": "code",
      "source": "# Finally we subtract a fifth times row five from row one\n# and we divide the last row by minus a fifth\nE4 = np.matrix(\"1 0 0 0.2; 0 1 0 0; 0 0 1 0; 0 0 0 -0.2\")\nA4 = E4 @ A3\nA4",
      "execution_count": 24,
      "outputs": [
        {
          "output_type": "execute_result",
          "execution_count": 24,
          "data": {
            "text/plain": "matrix([[ 1. ,  0. ,  0. , -0. , -0.8,  0.6,  0.2,  0.2],\n        [ 0. ,  1. ,  0. ,  0. ,  1.5,  0. , -1. ,  0. ],\n        [ 0. ,  0. ,  1. ,  0. ,  0.5,  0. ,  0. ,  0. ],\n        [ 0. ,  0. ,  0. ,  1. ,  0.8,  0.4, -0.2, -0.2]])"
          },
          "metadata": {}
        }
      ]
    },
    {
      "metadata": {},
      "cell_type": "markdown",
      "source": "The augmented matrix should be $A^{-1}$ now, multiplying should result in the identity $AA^{-1} = I$:"
    },
    {
      "metadata": {
        "trusted": true
      },
      "cell_type": "code",
      "source": "# Exctract inverse\nA_inverse = A4[:, 4:]\n\n# Notice the negative zeroes, due to rounding\nA @ A_inverse",
      "execution_count": 25,
      "outputs": [
        {
          "output_type": "execute_result",
          "execution_count": 25,
          "data": {
            "text/plain": "matrix([[ 1.,  0.,  0.,  0.],\n        [ 0.,  1.,  0.,  0.],\n        [ 0.,  0.,  1.,  0.],\n        [-0., -0.,  0.,  1.]])"
          },
          "metadata": {}
        }
      ]
    }
  ],
  "metadata": {
    "kernelspec": {
      "name": "python36",
      "display_name": "Python 3.6",
      "language": "python"
    },
    "language_info": {
      "mimetype": "text/x-python",
      "nbconvert_exporter": "python",
      "name": "python",
      "pygments_lexer": "ipython3",
      "version": "3.6.6",
      "file_extension": ".py",
      "codemirror_mode": {
        "version": 3,
        "name": "ipython"
      }
    }
  },
  "nbformat": 4,
  "nbformat_minor": 2
}